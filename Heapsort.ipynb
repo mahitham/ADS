{
  "nbformat": 4,
  "nbformat_minor": 0,
  "metadata": {
    "colab": {
      "name": "Untitled2.ipynb",
      "provenance": [],
      "authorship_tag": "ABX9TyO8+4HDKAcM4sSthnBikFR+",
      "include_colab_link": true
    },
    "kernelspec": {
      "name": "python3",
      "display_name": "Python 3"
    }
  },
  "cells": [
    {
      "cell_type": "markdown",
      "metadata": {
        "id": "view-in-github",
        "colab_type": "text"
      },
      "source": [
        "<a href=\"https://colab.research.google.com/github/mahithamandapati/ADS/blob/main/Heapsort.ipynb\" target=\"_parent\"><img src=\"https://colab.research.google.com/assets/colab-badge.svg\" alt=\"Open In Colab\"/></a>"
      ]
    },
    {
      "cell_type": "code",
      "metadata": {
        "colab": {
          "base_uri": "https://localhost:8080/"
        },
        "id": "NF-8paq4pCsS",
        "outputId": "738857d7-9e00-42be-9422-06ce32229c21"
      },
      "source": [
        "def heapsort(alist):\r\n",
        "    build_max_heap(alist)\r\n",
        "    for i in range(len(alist) - 1, 0, -1):\r\n",
        "        alist[0], alist[i] = alist[i], alist[0]\r\n",
        "        max_heapify(alist, index=0, size=i)\r\n",
        " \r\n",
        "def parent(i):\r\n",
        "    return (i - 1)//2\r\n",
        " \r\n",
        "def left(i):\r\n",
        "    return 2*i + 1\r\n",
        " \r\n",
        "def right(i):\r\n",
        "    return 2*i + 2\r\n",
        " \r\n",
        "def build_max_heap(alist):\r\n",
        "    length = len(alist)\r\n",
        "    start = parent(length - 1)\r\n",
        "    while start >= 0:\r\n",
        "        max_heapify(alist, index=start, size=length)\r\n",
        "        start = start - 1\r\n",
        " \r\n",
        "def max_heapify(alist, index, size):\r\n",
        "    l = left(index)\r\n",
        "    r = right(index)\r\n",
        "    if (l < size and alist[l] > alist[index]):\r\n",
        "        largest = l\r\n",
        "    else:\r\n",
        "        largest = index\r\n",
        "    if (r < size and alist[r] > alist[largest]):\r\n",
        "        largest = r\r\n",
        "    if (largest != index):\r\n",
        "        alist[largest], alist[index] = alist[index], alist[largest]\r\n",
        "        max_heapify(alist, largest, size) \r\n",
        "alist = input('Enter the list of numbers: ').split()\r\n",
        "alist = [int(x) for x in alist]\r\n",
        "heapsort(alist)\r\n",
        "print('Sorted list: ', end='')\r\n",
        "print(alist)"
      ],
      "execution_count": 2,
      "outputs": [
        {
          "output_type": "stream",
          "text": [
            "Enter the list of numbers: 3 2 10 1 13\n",
            "Sorted list: [1, 2, 3, 10, 13]\n"
          ],
          "name": "stdout"
        }
      ]
    }
  ]
}