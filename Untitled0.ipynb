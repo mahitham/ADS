{
  "nbformat": 4,
  "nbformat_minor": 0,
  "metadata": {
    "colab": {
      "name": "Untitled0.ipynb",
      "provenance": [],
      "authorship_tag": "ABX9TyOnUlB9Csy11GzCf26mwyzP",
      "include_colab_link": true
    },
    "kernelspec": {
      "name": "python3",
      "display_name": "Python 3"
    }
  },
  "cells": [
    {
      "cell_type": "markdown",
      "metadata": {
        "id": "view-in-github",
        "colab_type": "text"
      },
      "source": [
        "<a href=\"https://colab.research.google.com/github/mahithamandapati/ADS/blob/main/Untitled0.ipynb\" target=\"_parent\"><img src=\"https://colab.research.google.com/assets/colab-badge.svg\" alt=\"Open In Colab\"/></a>"
      ]
    },
    {
      "cell_type": "code",
      "metadata": {
        "colab": {
          "base_uri": "https://localhost:8080/"
        },
        "id": "8ivpXa4e3AkO",
        "outputId": "e3d3497d-4559-4a67-dd43-5a0a41d26de0"
      },
      "source": [
        "def mergeSort(arr):\r\n",
        "    if len(arr) > 1:\r\n",
        "        mid = len(arr)//2\r\n",
        "        L = arr[:mid]\r\n",
        "        R = arr[mid:]\r\n",
        "        mergeSort(L)\r\n",
        "        mergeSort(R)\r\n",
        "        i = j = k = 0\r\n",
        " \r\n",
        "        while i < len(L) and j < len(R):\r\n",
        "            if L[i] < R[j]:\r\n",
        "                arr[k] = L[i]\r\n",
        "                i += 1\r\n",
        "            else:\r\n",
        "                arr[k] = R[j]\r\n",
        "                j += 1\r\n",
        "            k += 1\r\n",
        "        while i < len(L):\r\n",
        "            arr[k] = L[i]\r\n",
        "            i += 1\r\n",
        "            k += 1\r\n",
        " \r\n",
        "        while j < len(R):\r\n",
        "            arr[k] = R[j]\r\n",
        "            j += 1\r\n",
        "            k += 1\r\n",
        " \r\n",
        "def printList(arr):\r\n",
        "    for i in range(len(arr)):\r\n",
        "        print(arr[i], end=\" \")\r\n",
        "    print()\r\n",
        " \r\n",
        "if __name__ == '__main__':\r\n",
        "    arr = [12, 11, 13, 5, 6, 7]\r\n",
        "    print(\"Given array is\", end=\"\\n\")\r\n",
        "    printList(arr)\r\n",
        "    mergeSort(arr)\r\n",
        "    print(\"Sorted array is: \", end=\"\\n\")\r\n",
        "    printList(arr)\r\n",
        " \r\n"
      ],
      "execution_count": 1,
      "outputs": [
        {
          "output_type": "stream",
          "text": [
            "Given array is\n",
            "12 11 13 5 6 7 \n",
            "Sorted array is: \n",
            "5 6 7 11 12 13 \n"
          ],
          "name": "stdout"
        }
      ]
    },
    {
      "cell_type": "code",
      "metadata": {
        "colab": {
          "base_uri": "https://localhost:8080/",
          "height": 367
        },
        "id": "R3zyiOI-CHIN",
        "outputId": "807e3120-6aec-43c0-9131-2935b772c92e"
      },
      "source": [
        "def quicksort(arr, start, end):\r\n",
        "  \r\n",
        "    if end - start > 1:\r\n",
        "        p = partition(arr, start, end)\r\n",
        "        quicksort(arr, start, p)\r\n",
        "        quicksort(arr, p + 1, end)\r\n",
        "def partition(arr, start, end):\r\n",
        "    pivot = arr[start]\r\n",
        "    i = start + 1\r\n",
        "    j = end - 1\r\n",
        "    while True:\r\n",
        "        while (i <= j and arr[i] <= pivot):\r\n",
        "            i = i + 1\r\n",
        "        while (i <= j and arr[j] >= pivot):\r\n",
        "            j = j - 1\r\n",
        " \r\n",
        "        if i <= j:\r\n",
        "            arr[i], arr[j] = arr[j], arr[i]\r\n",
        "        else:\r\n",
        "            arr[start], arr[j] = arr[j], arr[start]\r\n",
        "            return j\r\n",
        " \r\n",
        "arr = input('Enter the elements: ').split()\r\n",
        "arr = [int(x) for x in arr]\r\n",
        "quicksort(arr, 0, len(arr))\r\n",
        "print('Sorted list: ', end='')\r\n",
        "print(arr)"
      ],
      "execution_count": 4,
      "outputs": [
        {
          "output_type": "stream",
          "text": [
            "Enter the elements: 4,2,1,5,3\n"
          ],
          "name": "stdout"
        },
        {
          "output_type": "error",
          "ename": "ValueError",
          "evalue": "ignored",
          "traceback": [
            "\u001b[0;31m---------------------------------------------------------------------------\u001b[0m",
            "\u001b[0;31mValueError\u001b[0m                                Traceback (most recent call last)",
            "\u001b[0;32m<ipython-input-4-a3b6a321ffc4>\u001b[0m in \u001b[0;36m<module>\u001b[0;34m()\u001b[0m\n\u001b[1;32m     22\u001b[0m \u001b[0;34m\u001b[0m\u001b[0m\n\u001b[1;32m     23\u001b[0m \u001b[0marr\u001b[0m \u001b[0;34m=\u001b[0m \u001b[0minput\u001b[0m\u001b[0;34m(\u001b[0m\u001b[0;34m'Enter the elements: '\u001b[0m\u001b[0;34m)\u001b[0m\u001b[0;34m.\u001b[0m\u001b[0msplit\u001b[0m\u001b[0;34m(\u001b[0m\u001b[0;34m)\u001b[0m\u001b[0;34m\u001b[0m\u001b[0;34m\u001b[0m\u001b[0m\n\u001b[0;32m---> 24\u001b[0;31m \u001b[0marr\u001b[0m \u001b[0;34m=\u001b[0m \u001b[0;34m[\u001b[0m\u001b[0mint\u001b[0m\u001b[0;34m(\u001b[0m\u001b[0mx\u001b[0m\u001b[0;34m)\u001b[0m \u001b[0;32mfor\u001b[0m \u001b[0mx\u001b[0m \u001b[0;32min\u001b[0m \u001b[0marr\u001b[0m\u001b[0;34m]\u001b[0m\u001b[0;34m\u001b[0m\u001b[0;34m\u001b[0m\u001b[0m\n\u001b[0m\u001b[1;32m     25\u001b[0m \u001b[0mquicksort\u001b[0m\u001b[0;34m(\u001b[0m\u001b[0marr\u001b[0m\u001b[0;34m,\u001b[0m \u001b[0;36m0\u001b[0m\u001b[0;34m,\u001b[0m \u001b[0mlen\u001b[0m\u001b[0;34m(\u001b[0m\u001b[0marr\u001b[0m\u001b[0;34m)\u001b[0m\u001b[0;34m)\u001b[0m\u001b[0;34m\u001b[0m\u001b[0;34m\u001b[0m\u001b[0m\n\u001b[1;32m     26\u001b[0m \u001b[0mprint\u001b[0m\u001b[0;34m(\u001b[0m\u001b[0;34m'Sorted list: '\u001b[0m\u001b[0;34m,\u001b[0m \u001b[0mend\u001b[0m\u001b[0;34m=\u001b[0m\u001b[0;34m''\u001b[0m\u001b[0;34m)\u001b[0m\u001b[0;34m\u001b[0m\u001b[0;34m\u001b[0m\u001b[0m\n",
            "\u001b[0;32m<ipython-input-4-a3b6a321ffc4>\u001b[0m in \u001b[0;36m<listcomp>\u001b[0;34m(.0)\u001b[0m\n\u001b[1;32m     22\u001b[0m \u001b[0;34m\u001b[0m\u001b[0m\n\u001b[1;32m     23\u001b[0m \u001b[0marr\u001b[0m \u001b[0;34m=\u001b[0m \u001b[0minput\u001b[0m\u001b[0;34m(\u001b[0m\u001b[0;34m'Enter the elements: '\u001b[0m\u001b[0;34m)\u001b[0m\u001b[0;34m.\u001b[0m\u001b[0msplit\u001b[0m\u001b[0;34m(\u001b[0m\u001b[0;34m)\u001b[0m\u001b[0;34m\u001b[0m\u001b[0;34m\u001b[0m\u001b[0m\n\u001b[0;32m---> 24\u001b[0;31m \u001b[0marr\u001b[0m \u001b[0;34m=\u001b[0m \u001b[0;34m[\u001b[0m\u001b[0mint\u001b[0m\u001b[0;34m(\u001b[0m\u001b[0mx\u001b[0m\u001b[0;34m)\u001b[0m \u001b[0;32mfor\u001b[0m \u001b[0mx\u001b[0m \u001b[0;32min\u001b[0m \u001b[0marr\u001b[0m\u001b[0;34m]\u001b[0m\u001b[0;34m\u001b[0m\u001b[0;34m\u001b[0m\u001b[0m\n\u001b[0m\u001b[1;32m     25\u001b[0m \u001b[0mquicksort\u001b[0m\u001b[0;34m(\u001b[0m\u001b[0marr\u001b[0m\u001b[0;34m,\u001b[0m \u001b[0;36m0\u001b[0m\u001b[0;34m,\u001b[0m \u001b[0mlen\u001b[0m\u001b[0;34m(\u001b[0m\u001b[0marr\u001b[0m\u001b[0;34m)\u001b[0m\u001b[0;34m)\u001b[0m\u001b[0;34m\u001b[0m\u001b[0;34m\u001b[0m\u001b[0m\n\u001b[1;32m     26\u001b[0m \u001b[0mprint\u001b[0m\u001b[0;34m(\u001b[0m\u001b[0;34m'Sorted list: '\u001b[0m\u001b[0;34m,\u001b[0m \u001b[0mend\u001b[0m\u001b[0;34m=\u001b[0m\u001b[0;34m''\u001b[0m\u001b[0;34m)\u001b[0m\u001b[0;34m\u001b[0m\u001b[0;34m\u001b[0m\u001b[0m\n",
            "\u001b[0;31mValueError\u001b[0m: invalid literal for int() with base 10: '4,2,1,5,3'"
          ]
        }
      ]
    },
    {
      "cell_type": "code",
      "metadata": {
        "colab": {
          "base_uri": "https://localhost:8080/"
        },
        "id": "sxT7nMlJDsxC",
        "outputId": "e3069a26-be31-4a68-b27e-2db10bb099c6"
      },
      "source": [
        "def partition(arr, low, high): \r\n",
        "    i = (low-1)         # index of smaller element \r\n",
        "    pivot = arr[high]     # pivot \r\n",
        "       for j in range(low, high):  \r\n",
        "        if arr[j] <= pivot: \r\n",
        "            i = i+1\r\n",
        "            arr[i], arr[j] = arr[j], arr[i] \r\n",
        "      arr[i+1], arr[high] = arr[high], arr[i+1] \r\n",
        "    return (i+1) \r\n",
        "def quickSort(arr, low, high): \r\n",
        "    if len(arr) == 1: \r\n",
        "        return arr \r\n",
        "    if low < high: \r\n",
        "        pi = partition(arr, low, high) \r\n",
        "        quickSort(arr, low, pi-1) \r\n",
        "        quickSort(arr, pi+1, high) \r\n",
        "arr = [10, 7, 8, 9, 1, 5] \r\n",
        "n = len(arr) \r\n",
        "quickSort(arr, 0, n-1) \r\n",
        "print(\"Sorted array is:\") \r\n",
        "for i in range(n): \r\n",
        "    print(\"%d\" % arr[i]), "
      ],
      "execution_count": 5,
      "outputs": [
        {
          "output_type": "stream",
          "text": [
            "Sorted array is:\n",
            "1\n",
            "5\n",
            "7\n",
            "8\n",
            "9\n",
            "10\n"
          ],
          "name": "stdout"
        }
      ]
    }
  ]
}