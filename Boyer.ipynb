{
  "nbformat": 4,
  "nbformat_minor": 0,
  "metadata": {
    "colab": {
      "name": "Welcome To Colaboratory",
      "provenance": [],
      "collapsed_sections": [],
      "toc_visible": true,
      "include_colab_link": true
    },
    "kernelspec": {
      "display_name": "Python 3",
      "name": "python3"
    }
  },
  "cells": [
    {
      "cell_type": "markdown",
      "metadata": {
        "id": "view-in-github",
        "colab_type": "text"
      },
      "source": [
        "<a href=\"https://colab.research.google.com/github/mahithamandapati/ADS/blob/main/Boyer.ipynb\" target=\"_parent\"><img src=\"https://colab.research.google.com/assets/colab-badge.svg\" alt=\"Open In Colab\"/></a>"
      ]
    },
    {
      "cell_type": "code",
      "metadata": {
        "colab": {
          "base_uri": "https://localhost:8080/"
        },
        "id": "dVE0RTT6NSOa",
        "outputId": "e5cc7e63-d8e8-4077-a0bd-f30ddcb44176"
      },
      "source": [
        "NO_OF_CHARS = 256\n",
        "  \n",
        "def badmatchChar(string, size):\n",
        "    badChar = [-1]*NO_OF_CHARS\n",
        "    for i in range(size):\n",
        "        badChar[ord(string[i])] = i;\n",
        "    return badChar\n",
        "  \n",
        "def search(txt, pat):\n",
        "    m = len(pat)\n",
        "    n = len(txt)\n",
        "    badChar = badmatchChar(pat, m) \n",
        "    s = 0\n",
        "    while(s <= n-m):\n",
        "        j = m-1\n",
        "        while j>=0 and pat[j] == txt[s+j]:\n",
        "            j -= 1\n",
        "        if j<0:\n",
        "            print(\"Pattern occur at shift {}\".format(s))\n",
        "            s += (m-badChar[ord(txt[s+m])] if s+m<n else 1)\n",
        "        else:\n",
        "            s += max(1, j-badChar[ord(txt[s+j])])\n",
        "def main():\n",
        "    txt = \"ABAAABCD\"\n",
        "    pat = \"AA\"\n",
        "    search(txt, pat)\n",
        "  \n",
        "if __name__ == '__main__':\n",
        "    main()"
      ],
      "execution_count": 10,
      "outputs": [
        {
          "output_type": "stream",
          "text": [
            "Pattern occur at shift 2\n",
            "Pattern occur at shift 3\n"
          ],
          "name": "stdout"
        }
      ]
    }
  ]
}