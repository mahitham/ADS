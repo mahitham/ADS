{
  "nbformat": 4,
  "nbformat_minor": 0,
  "metadata": {
    "colab": {
      "name": "Insertion in AVL.ipynb",
      "provenance": [],
      "authorship_tag": "ABX9TyOGp+zeHiM6uFVfRDAg9RQB",
      "include_colab_link": true
    },
    "kernelspec": {
      "name": "python3",
      "display_name": "Python 3"
    }
  },
  "cells": [
    {
      "cell_type": "markdown",
      "metadata": {
        "id": "view-in-github",
        "colab_type": "text"
      },
      "source": [
        "<a href=\"https://colab.research.google.com/github/mahithamandapati/ADS/blob/main/Insertion_in_AVL.ipynb\" target=\"_parent\"><img src=\"https://colab.research.google.com/assets/colab-badge.svg\" alt=\"Open In Colab\"/></a>"
      ]
    },
    {
      "cell_type": "code",
      "metadata": {
        "colab": {
          "base_uri": "https://localhost:8080/"
        },
        "id": "HdREylNRWTwR",
        "outputId": "6a48a50f-67e1-4297-dbd9-b7cf4297587a"
      },
      "source": [
        "class TreeNode(object): \r\n",
        "    def __init__(self,_val): \r\n",
        "        self.val = _val \r\n",
        "        self.left = None\r\n",
        "        self.right = None\r\n",
        "        self.height = 1\r\n",
        "        \r\n",
        "class AVL_Tree(object): \r\n",
        "    \r\n",
        "    def insert(self, root, val): \r\n",
        "        \r\n",
        "        if not root: \r\n",
        "            return TreeNode(val) \r\n",
        "        elif val < root.val: \r\n",
        "            root.left = self.insert(root.left, val) \r\n",
        "        else: \r\n",
        "            root.right = self.insert(root.right, val)\r\n",
        "        root.height = 1 + max(self.Height(root.left), self.Height(root.right)) \r\n",
        "        balance = self.check_Avl(root) \r\n",
        "        if balance > 1 and val < root.left.val: \r\n",
        "            return self.RR(root) \r\n",
        "\r\n",
        "        #LL Rotation \r\n",
        "        if balance < -1 and val > root.right.val: \r\n",
        "            return self.LL(root) \r\n",
        "        #RL Rotation \r\n",
        "        if balance > 1 and val > root.left.val: \r\n",
        "            root.left = self.LL(root.left) \r\n",
        "            return self.RR(root) \r\n",
        "        #LR Rotation \r\n",
        "        if balance < -1 and val < root.right.val: \r\n",
        "            root.right = self.RR(root.right) \r\n",
        "            return self.LL(root) \r\n",
        "  \r\n",
        "        return root \r\n",
        "     #LL Rotation\r\n",
        "    def LL(self, node): \r\n",
        "       \r\n",
        "        p = node.right \r\n",
        "        t = p.left\r\n",
        "        \r\n",
        "        p.left = node \r\n",
        "        node.right = t \r\n",
        "        \r\n",
        "        node.height = 1 + max(self.Height(node.left), self.Height(node.right)) \r\n",
        "        p.height = 1 + max(self.Height(p.left), self.Height(p.right)) \r\n",
        "   \r\n",
        "        return p \r\n",
        "    #LL Rotation\r\n",
        "    def RR(self, node): \r\n",
        "  \r\n",
        "        p = node.left \r\n",
        "        t = p.right\r\n",
        "      \r\n",
        "        p.right = node\r\n",
        "        node.left = t \r\n",
        "       \r\n",
        "        node.height = 1 + max(self.Height(node.left), self.Height(node.right)) \r\n",
        "        p.height = 1 + max(self.Height(p.left), self.Height(p.right)) \r\n",
        "        return p \r\n",
        "   \r\n",
        "    def Height(self, root): \r\n",
        "        if not root: \r\n",
        "            return 0\r\n",
        "  \r\n",
        "        return root.height \r\n",
        "  \r\n",
        "    def check_Avl(self, root): \r\n",
        "        if not root: \r\n",
        "            return 0\r\n",
        "  \r\n",
        "        return self.Height(root.left) - self.Height(root.right) \r\n",
        "  \r\n",
        "    def preOrder(self, root): \r\n",
        "  \r\n",
        "        if not root: \r\n",
        "            return\r\n",
        "  \r\n",
        "        print(\"{0} \".format(root.val), end=\"\") \r\n",
        "        self.preOrder(root.left) \r\n",
        "        self.preOrder(root.right) \r\n",
        "\r\n",
        "\r\n",
        "def insert_data(_data):\r\n",
        "        mytree = AVL_Tree()\r\n",
        "        root = None\r\n",
        "        for i in _data:\r\n",
        "            root = mytree.insert(root,i)\r\n",
        "        print(\"Preorder Traversal of constructed AVL tree is:\")\r\n",
        "        mytree.preOrder(root)\r\n",
        "        print()\r\n",
        "\r\n",
        "if __name__ == \"__main__\":\r\n",
        "    insert_data([10,8,15,7,9,12,17,16,18,6,4])\r\n",
        "   \r\n",
        "else:\r\n",
        "    pass"
      ],
      "execution_count": 1,
      "outputs": [
        {
          "output_type": "stream",
          "text": [
            "Preorder Traversal of constructed AVL tree is:\n",
            "10 8 6 4 7 9 15 12 17 16 18 \n"
          ],
          "name": "stdout"
        }
      ]
    }
  ]
}