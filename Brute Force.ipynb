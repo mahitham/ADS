{
  "nbformat": 4,
  "nbformat_minor": 0,
  "metadata": {
    "colab": {
      "name": "Welcome To Colaboratory",
      "provenance": [],
      "collapsed_sections": [],
      "toc_visible": true,
      "include_colab_link": true
    },
    "kernelspec": {
      "display_name": "Python 3",
      "name": "python3"
    }
  },
  "cells": [
    {
      "cell_type": "markdown",
      "metadata": {
        "id": "view-in-github",
        "colab_type": "text"
      },
      "source": [
        "<a href=\"https://colab.research.google.com/github/mahithamandapati/ADS/blob/main/Brute%20Force.ipynb\" target=\"_parent\"><img src=\"https://colab.research.google.com/assets/colab-badge.svg\" alt=\"Open In Colab\"/></a>"
      ]
    },
    {
      "cell_type": "code",
      "metadata": {
        "colab": {
          "base_uri": "https://localhost:8080/"
        },
        "id": "dVE0RTT6NSOa",
        "outputId": "3481e10c-89be-4aca-d818-978039b52df4"
      },
      "source": [
        "def search(p, t):\n",
        "    M = len(p)\n",
        "    N = len(t)\n",
        "    for i in range(N - M + 1):\n",
        "        j = 0\n",
        "        while(j < M):\n",
        "            if (t[i + j] != p[j]):\n",
        "                break\n",
        "            j += 1\n",
        "        if (j == M): \n",
        "            print(\"Pattern is found at index \", i)\n",
        "if __name__ == '__main__':\n",
        "    t = \"AABAACAADAABAAABAA\"\n",
        "    p = \"AA\"\n",
        "    search(p, t)"
      ],
      "execution_count": 5,
      "outputs": [
        {
          "output_type": "stream",
          "text": [
            "Pattern is found at index  0\n",
            "Pattern is found at index  3\n",
            "Pattern is found at index  6\n",
            "Pattern is found at index  9\n",
            "Pattern is found at index  12\n",
            "Pattern is found at index  13\n",
            "Pattern is found at index  16\n"
          ],
          "name": "stdout"
        }
      ]
    }
  ]
}