{
  "nbformat": 4,
  "nbformat_minor": 0,
  "metadata": {
    "colab": {
      "name": "insert,delete,search in dict.ipynb",
      "provenance": [],
      "authorship_tag": "ABX9TyO5VN/xdhYT2UPnTcYjE503",
      "include_colab_link": true
    },
    "kernelspec": {
      "name": "python3",
      "display_name": "Python 3"
    }
  },
  "cells": [
    {
      "cell_type": "markdown",
      "metadata": {
        "id": "view-in-github",
        "colab_type": "text"
      },
      "source": [
        "<a href=\"https://colab.research.google.com/github/mahithamandapati/ADS/blob/main/insert%2Cdelete%2Csearch_in_dict.ipynb\" target=\"_parent\"><img src=\"https://colab.research.google.com/assets/colab-badge.svg\" alt=\"Open In Colab\"/></a>"
      ]
    },
    {
      "cell_type": "code",
      "metadata": {
        "colab": {
          "base_uri": "https://localhost:8080/"
        },
        "id": "EqyfswPoTJ26",
        "outputId": "acd19538-325e-4533-ca16-c7f99754a4b4"
      },
      "source": [
        "def delete(key):\r\n",
        "    my_Dict.pop(key)\r\n",
        "    print(my_Dict)\r\n",
        "my_Dict = {'abc':'Java','xyz':'python','c':300, 15:20, 52:64}\r\n",
        "delete('abc')\r\n",
        "delete('xyz')"
      ],
      "execution_count": 1,
      "outputs": [
        {
          "output_type": "stream",
          "text": [
            "{'xyz': 'python', 'c': 300, 15: 20, 52: 64}\n",
            "{'c': 300, 15: 20, 52: 64}\n"
          ],
          "name": "stdout"
        }
      ]
    },
    {
      "cell_type": "code",
      "metadata": {
        "colab": {
          "base_uri": "https://localhost:8080/"
        },
        "id": "d5KOQUe9Tsrw",
        "outputId": "3eb0facb-71c3-446c-9763-92fc0b9a1f9b"
      },
      "source": [
        "def insert(key,val):\r\n",
        "    a[key] = val\r\n",
        "    print(a)\r\n",
        "a = {'abc':'Java','xyz':'python','c':300, 15:20, 52:64}\r\n",
        "insert('pqr','c language')\r\n",
        "insert('asd','R programming')\r\n",
        "insert('ijk','dotnet')"
      ],
      "execution_count": 3,
      "outputs": [
        {
          "output_type": "stream",
          "text": [
            "{'abc': 'Java', 'xyz': 'python', 'c': 300, 15: 20, 52: 64, 'pqr': 'c language'}\n",
            "{'abc': 'Java', 'xyz': 'python', 'c': 300, 15: 20, 52: 64, 'pqr': 'c language', 'asd': 'R programming'}\n",
            "{'abc': 'Java', 'xyz': 'python', 'c': 300, 15: 20, 52: 64, 'pqr': 'c language', 'asd': 'R programming', 'ijk': 'dotnet'}\n"
          ],
          "name": "stdout"
        }
      ]
    },
    {
      "cell_type": "code",
      "metadata": {
        "colab": {
          "base_uri": "https://localhost:8080/"
        },
        "id": "I9gQ8C0HUbPn",
        "outputId": "9b19015d-eb19-42da-dcd4-eba978c29b89"
      },
      "source": [
        "def get_key(val):\r\n",
        "    for key, value in my_Dict.items():\r\n",
        "        if val == value:\r\n",
        "            return \"success\"\r\n",
        "    return \"key doesn't exist\"\r\n",
        "my_Dict = {'abc':'Java','xyz':'python','c':300, 15:20, 52:64}\r\n",
        "\r\n",
        "print(get_key('java'))\r\n",
        "print(get_key(64))\r\n",
        "print(get_key(92))"
      ],
      "execution_count": 4,
      "outputs": [
        {
          "output_type": "stream",
          "text": [
            "key doesn't exist\n",
            "success\n",
            "key doesn't exist\n"
          ],
          "name": "stdout"
        }
      ]
    }
  ]
}